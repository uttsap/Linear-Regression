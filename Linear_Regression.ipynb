{
 "cells": [
  {
   "cell_type": "code",
   "execution_count": 127,
   "metadata": {},
   "outputs": [],
   "source": [
    "import numpy as np\n",
    "import matplotlib\n",
    "import matplotlib.pyplot as plt\n",
    "from IPython.display import Image\n",
    "from sklearn.datasets import load_boston\n",
    "from sklearn.model_selection import train_test_split"
   ]
  },
  {
   "cell_type": "code",
   "execution_count": 128,
   "metadata": {},
   "outputs": [],
   "source": [
    "data = load_boston()\n",
    "X = np.array(data.data)\n",
    "x = X[:,:3]\n",
    "y = np.array(data.target)\n",
    "X_train, X_test, y_train, y_test = train_test_split(x, y, test_size=0.2)"
   ]
  },
  {
   "cell_type": "code",
   "execution_count": 129,
   "metadata": {},
   "outputs": [],
   "source": [
    "# x = []\n",
    "# y = Y\n",
    "\n",
    "# for i in range(0, len(X)):\n",
    "#     x.append(X[i][1])\n",
    "#     y.append(Y[i][1])\n"
   ]
  },
  {
   "cell_type": "code",
   "execution_count": 130,
   "metadata": {},
   "outputs": [],
   "source": [
    "initial_m = 0\n",
    "initial_b = 0"
   ]
  },
  {
   "cell_type": "code",
   "execution_count": 131,
   "metadata": {},
   "outputs": [],
   "source": [
    "def compute_error(m, b, x, y):\n",
    "    totalError = 0\n",
    "    \n",
    "    for i in range(0, len(x)):\n",
    "        totalError += ((y[i] - (m * x[i] + b)) **2)\n",
    "    \n",
    "    totalError = totalError / float(len(x))\n",
    "    return totalError"
   ]
  },
  {
   "cell_type": "code",
   "execution_count": 132,
   "metadata": {},
   "outputs": [],
   "source": [
    "def linear_formula(x, m, b):\n",
    "    return (m * x) + b\n",
    "\n",
    "def gradient_step(x, y, current_m, current_b, learning_rate):\n",
    "    gradient_m = 0\n",
    "    gradient_b = 0\n",
    "    N = float(len(x))\n",
    "    \n",
    "    for i in range(0, len(x)):\n",
    "        gradient_m += (-2/N) * x[i] * (y[i] - linear_formula(x[i], current_m, current_b))\n",
    "        gradient_b += (-2/N) * (y[i] - linear_formula(x[i], current_m, current_b))\n",
    "    \n",
    "    new_m = current_m - (learning_rate * gradient_m)\n",
    "    new_b = current_b - (learning_rate * gradient_b)\n",
    "    \n",
    "    return [new_m, new_b]"
   ]
  },
  {
   "cell_type": "code",
   "execution_count": 133,
   "metadata": {},
   "outputs": [],
   "source": [
    "def gradient_descent(x, y, current_m, current_b, learning_rate, epochs):\n",
    "    m = current_m\n",
    "    b = current_b\n",
    "    \n",
    "    check_iter = 1000\n",
    "    \n",
    "    for i in range(epochs):\n",
    "        m, b = gradient_step(x, y, m, b, learning_rate)\n",
    "        \n",
    "        if i % check_iter == 0:\n",
    "            print(\"epoch[\", i, \"] - loss: \", compute_error(m, b, x, y))\n",
    "        \n",
    "    return [m, b]"
   ]
  },
  {
   "cell_type": "code",
   "execution_count": 134,
   "metadata": {},
   "outputs": [],
   "source": [
    "learning_rate = 0.0001\n",
    "epochs = 10000"
   ]
  },
  {
   "cell_type": "code",
   "execution_count": 135,
   "metadata": {},
   "outputs": [],
   "source": [
    "#TRAINIG"
   ]
  },
  {
   "cell_type": "code",
   "execution_count": 136,
   "metadata": {},
   "outputs": [
    {
     "name": "stdout",
     "output_type": "stream",
     "text": [
      "epoch[ 0 ] - loss:  [594.20104711 546.48375939 576.37666868]\n",
      "epoch[ 1000 ] - loss:  [423.0204576  322.06642297 287.02577572]\n",
      "epoch[ 2000 ] - loss:  [322.58973849 253.82129924 263.64346534]\n",
      "epoch[ 3000 ] - loss:  [250.97739271 204.25295845 242.73245251]\n",
      "epoch[ 4000 ] - loss:  [199.91405159 168.25008713 224.03154356]\n",
      "epoch[ 5000 ] - loss:  [163.50322358 142.10019542 207.30715061]\n",
      "epoch[ 6000 ] - loss:  [137.54040235 123.1067982  192.35037389]\n",
      "epoch[ 7000 ] - loss:  [119.02755541 109.31136294 178.97439245]\n",
      "epoch[ 8000 ] - loss:  [105.82692906  99.29135273 167.01213059]\n",
      "epoch[ 9000 ] - loss:  [ 96.41419333  92.01353926 156.31417102]\n",
      "m:  [-0.2431286   0.22044394  0.45432246] b:  [19.66545951 16.54406381 12.7943881 ]\n"
     ]
    }
   ],
   "source": [
    "m, b = gradient_descent(X_train, y_train, initial_m, initial_b, learning_rate, epochs)\n",
    "print(\"m: \", m, \"b: \", b)"
   ]
  },
  {
   "cell_type": "code",
   "execution_count": null,
   "metadata": {},
   "outputs": [],
   "source": [
    "#TESTING"
   ]
  },
  {
   "cell_type": "code",
   "execution_count": 70,
   "metadata": {},
   "outputs": [
    {
     "name": "stdout",
     "output_type": "stream",
     "text": [
      "epoch[ 0 ] - loss:  [526.15733089 475.84737255 509.10295981]\n",
      "epoch[ 100 ] - loss:  [491.81156226 340.41980966 260.9597472 ]\n",
      "epoch[ 200 ] - loss:  [476.79254858 331.43228388 258.61655158]\n",
      "epoch[ 300 ] - loss:  [462.30570917 322.72442788 256.46510072]\n",
      "epoch[ 400 ] - loss:  [448.31820135 314.28753902 254.33564337]\n",
      "epoch[ 500 ] - loss:  [434.81280298 306.11318548 252.22784007]\n",
      "epoch[ 600 ] - loss:  [421.77289713 298.1931978  250.14147053]\n",
      "epoch[ 700 ] - loss:  [409.1824396  290.51966073 248.07631681]\n",
      "epoch[ 800 ] - loss:  [397.02593917 283.08490534 246.03216316]\n",
      "epoch[ 900 ] - loss:  [385.2884386  275.88150132 244.00879604]\n"
     ]
    }
   ],
   "source": [
    "m, b = gradient_descent(X_test, y_test, initial_m, initial_b, learning_rate, epochs)"
   ]
  },
  {
   "cell_type": "code",
   "execution_count": 117,
   "metadata": {},
   "outputs": [],
   "source": [
    "pred_y = []\n",
    "\n",
    "for i in range(0, len(x)):\n",
    "    pred_y.append(linear_formula(x[i], m[2], b[2]))"
   ]
  },
  {
   "cell_type": "code",
   "execution_count": 118,
   "metadata": {},
   "outputs": [],
   "source": [
    "pred_y = np.array(pred_y)"
   ]
  },
  {
   "cell_type": "code",
   "execution_count": 119,
   "metadata": {},
   "outputs": [
    {
     "data": {
      "text/plain": [
       "[<matplotlib.lines.Line2D at 0x7f15c8b50f60>]"
      ]
     },
     "execution_count": 119,
     "metadata": {},
     "output_type": "execute_result"
    },
    {
     "data": {
      "image/png": "[encoded data removed]",
      "text/plain": [
       "<Figure size 432x288 with 1 Axes>"
      ]
     },
     "metadata": {},
     "output_type": "display_data"
    }
   ],
   "source": [
    "plt.scatter(x[:,2], y)\n",
    "plt.plot(x[:,2],pred_y[:,2], 'r--')"
   ]
  },
  {
   "cell_type": "code",
   "execution_count": null,
   "metadata": {},
   "outputs": [],
   "source": []
  }
 ],
 "metadata": {
  "kernelspec": {
   "display_name": "Python 3",
   "language": "python",
   "name": "python3"
  },
  "language_info": {
   "codemirror_mode": {
    "name": "ipython",
    "version": 3
   },
   "file_extension": ".py",
   "mimetype": "text/x-python",
   "name": "python",
   "nbconvert_exporter": "python",
   "pygments_lexer": "ipython3",
   "version": "3.6.5"
  }
 },
 "nbformat": 4,
 "nbformat_minor": 2
}
