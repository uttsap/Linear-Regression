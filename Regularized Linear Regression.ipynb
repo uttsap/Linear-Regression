{
 "cells": [
  {
   "cell_type": "code",
   "execution_count": 448,
   "metadata": {},
   "outputs": [],
   "source": [
    "import numpy as np\n",
    "import matplotlib\n",
    "import matplotlib.pyplot as plt\n",
    "from IPython.display import Image\n",
    "from sklearn.datasets import load_boston\n",
    "from sklearn.model_selection import train_test_split"
   ]
  },
  {
   "cell_type": "code",
   "execution_count": 449,
   "metadata": {},
   "outputs": [],
   "source": [
    "data = load_boston()\n",
    "X = np.array(data.data)\n",
    "x = X[:,:3]\n",
    "y = np.array(data.target)\n",
    "X_train, X_test, y_train, y_test = train_test_split(x, y, test_size=0.2)\n",
    "X_train, X_val, y_train, y_val = train_test_split(x, y, test_size=0.2)"
   ]
  },
  {
   "cell_type": "code",
   "execution_count": 450,
   "metadata": {},
   "outputs": [],
   "source": [
    "# x = []\n",
    "# y = Y\n",
    "\n",
    "# for i in range(0, len(X)):\n",
    "#     x.append(X[i][1])\n",
    "#     y.append(Y[i][1])"
   ]
  },
  {
   "cell_type": "code",
   "execution_count": 451,
   "metadata": {},
   "outputs": [],
   "source": [
    "initial_m = np.random.randn(1)\n",
    "initial_b = 1"
   ]
  },
  {
   "cell_type": "code",
   "execution_count": 452,
   "metadata": {},
   "outputs": [],
   "source": [
    "def compute_error(m, b, x, y):\n",
    "    totalError = 0\n",
    "    lam = 0.001\n",
    "    for i in range(0, len(x)):\n",
    "        totalError += ((y[i] - (m * x[i] + b)) **2) + (lam/float(len(x)) * np.sum(m **2))\n",
    "    \n",
    "    totalError = totalError / float(len(x))\n",
    "    return totalError"
   ]
  },
  {
   "cell_type": "code",
   "execution_count": 453,
   "metadata": {},
   "outputs": [
    {
     "name": "stdout",
     "output_type": "stream",
     "text": [
      "the initial error is [538.81472996 485.47792583 504.15063612]\n"
     ]
    }
   ],
   "source": [
    "print(\"the initial error is\" , compute_error(initial_m,initial_b,x,y))"
   ]
  },
  {
   "cell_type": "code",
   "execution_count": 454,
   "metadata": {},
   "outputs": [],
   "source": [
    "def linear_formula(x, m, b):\n",
    "    return (m * x) + b\n",
    "\n",
    "def gradient_step(x, y, m, b, learning_rate):\n",
    "    gradient_m = 0\n",
    "    gradient_b = 0\n",
    "    N = float(len(x))   \n",
    "    lam = 0.0001\n",
    "    for i in range(0, len(x)):\n",
    "        gradient_m += (-2/N) * x[i] * (y[i] - linear_formula(x[i], m, b))\n",
    "        gradient_b += (-2/N) * (y[i] - linear_formula(x[i], m, b))\n",
    "    \n",
    "    m = m - learning_rate * (gradient_m + (lam/N * m))\n",
    "    b = b - (learning_rate * gradient_b)\n",
    "    \n",
    "    return [m, b]"
   ]
  },
  {
   "cell_type": "code",
   "execution_count": 455,
   "metadata": {},
   "outputs": [],
   "source": [
    "def gradient_descent(x, y, m, b, learning_rate, epochs):\n",
    "#     m = current_m\n",
    "#     b = current_b\n",
    "    \n",
    "    check_iter = 1000\n",
    "    \n",
    "    for i in range(epochs):\n",
    "        m, b = gradient_step(x, y, m, b, learning_rate)\n",
    "        \n",
    "        if i % check_iter == 0:\n",
    "            print(\"epoch[\", i, \"] - loss: \", compute_error(m, b, x, y))\n",
    "        \n",
    "    return [m, b]\n",
    "\n",
    "def storeWeight():\n",
    "    lm, lb = gradient_step(x, y, m, b, learning_rate)\n",
    "    return [lm,lb]\n",
    "\n"
   ]
  },
  {
   "cell_type": "markdown",
   "metadata": {},
   "source": [
    "# TRAINING"
   ]
  },
  {
   "cell_type": "code",
   "execution_count": 456,
   "metadata": {},
   "outputs": [
    {
     "name": "stdout",
     "output_type": "stream",
     "text": [
      "epoch[ 0 ] - loss:  [537.90337457 408.35223283 391.12842092]\n",
      "epoch[ 1000 ] - loss:  [ 87.75674722  87.79963679 141.83219213]\n",
      "epoch[ 2000 ] - loss:  [72.69324846 75.16568433 91.3515925 ]\n",
      "epoch[ 3000 ] - loss:  [72.17437796 74.62946764 74.75746837]\n",
      "epoch[ 4000 ] - loss:  [72.15650545 74.60670952 69.30260148]\n",
      "epoch[ 5000 ] - loss:  [72.15589002 74.60574381 67.50946243]\n",
      "epoch[ 6000 ] - loss:  [72.15586895 74.60570295 66.9200168 ]\n",
      "epoch[ 7000 ] - loss:  [72.15586831 74.6057013  66.72625261]\n",
      "epoch[ 8000 ] - loss:  [72.15586833 74.60570128 66.66255792]\n",
      "epoch[ 9000 ] - loss:  [72.15586836 74.6057013  66.64162004]\n",
      "m:  [-0.45544668  0.14007203 -0.64111988] b:  [24.23833544 20.88065824 29.60182192]\n"
     ]
    }
   ],
   "source": [
    "m, b = gradient_descent(X_train, y_train, initial_m, initial_b, learning_rate, epochs)\n",
    "print(\"m: \", m, \"b: \", b)"
   ]
  },
  {
   "cell_type": "code",
   "execution_count": 457,
   "metadata": {},
   "outputs": [],
   "source": [
    "def cost(x,y,m,b):\n",
    "    yError = 0\n",
    "    for i in range(0, len(x)):\n",
    "        yError += ((y[i] - (m * x[i] + b)) **2)\n",
    "    yError = yError / float(len(x))\n",
    "    return yError"
   ]
  },
  {
   "cell_type": "markdown",
   "metadata": {},
   "source": [
    "# TRAIN COST"
   ]
  },
  {
   "cell_type": "code",
   "execution_count": 458,
   "metadata": {},
   "outputs": [
    {
     "name": "stdout",
     "output_type": "stream",
     "text": [
      "[72.15853826 74.61540064 66.63486798]\n"
     ]
    }
   ],
   "source": [
    "lm, lb = storeWeight()\n",
    "testError = cost(X_train,y_train,lm,lb)\n",
    "print(testError)"
   ]
  },
  {
   "cell_type": "markdown",
   "metadata": {},
   "source": [
    "# VALIDATION COST"
   ]
  },
  {
   "cell_type": "code",
   "execution_count": 459,
   "metadata": {},
   "outputs": [
    {
     "name": "stdout",
     "output_type": "stream",
     "text": [
      "[71.17674062 68.8508124  56.90316327]\n"
     ]
    }
   ],
   "source": [
    "lm, lb = storeWeight()\n",
    "valError = cost(X_val,y_val,lm,lb)\n",
    "print(valError)"
   ]
  },
  {
   "cell_type": "markdown",
   "metadata": {},
   "source": [
    "# TEST COST"
   ]
  },
  {
   "cell_type": "code",
   "execution_count": 460,
   "metadata": {},
   "outputs": [
    {
     "name": "stdout",
     "output_type": "stream",
     "text": [
      "[66.86932456 70.36293773 58.77257754]\n"
     ]
    }
   ],
   "source": [
    "lm, lb = storeWeight()\n",
    "testError = cost(X_test,y_test,lm,lb)\n",
    "print(testError)"
   ]
  },
  {
   "cell_type": "code",
   "execution_count": 480,
   "metadata": {},
   "outputs": [],
   "source": [
    "pred_y = []\n",
    "\n",
    "for i in range(0, len(X_train)):\n",
    "    pred_y.append(linear_formula(X_train[i], m[2], b[2]))"
   ]
  },
  {
   "cell_type": "code",
   "execution_count": 481,
   "metadata": {},
   "outputs": [],
   "source": [
    "pred_y = np.array(pred_y)"
   ]
  },
  {
   "cell_type": "code",
   "execution_count": 482,
   "metadata": {},
   "outputs": [
    {
     "data": {
      "text/plain": [
       "(404, 3)"
      ]
     },
     "execution_count": 482,
     "metadata": {},
     "output_type": "execute_result"
    }
   ],
   "source": [
    "pred_y.shape"
   ]
  },
  {
   "cell_type": "code",
   "execution_count": 483,
   "metadata": {},
   "outputs": [
    {
     "data": {
      "text/plain": [
       "[<matplotlib.lines.Line2D at 0x7f607af4f550>]"
      ]
     },
     "execution_count": 483,
     "metadata": {},
     "output_type": "execute_result"
    },
    {
     "data": {
      "image/png": "[encoded data removed]",
      "text/plain": [
       "<Figure size 432x288 with 1 Axes>"
      ]
     },
     "metadata": {},
     "output_type": "display_data"
    }
   ],
   "source": [
    "plt.scatter(X_train[:,2], y_train)\n",
    "plt.plot(X_train[:,2],pred_y[:,2], 'r-')"
   ]
  },
  {
   "cell_type": "code",
   "execution_count": null,
   "metadata": {},
   "outputs": [],
   "source": []
  }
 ],
 "metadata": {
  "kernelspec": {
   "display_name": "Python 3",
   "language": "python",
   "name": "python3"
  },
  "language_info": {
   "codemirror_mode": {
    "name": "ipython",
    "version": 3
   },
   "file_extension": ".py",
   "mimetype": "text/x-python",
   "name": "python",
   "nbconvert_exporter": "python",
   "pygments_lexer": "ipython3",
   "version": "3.6.5"
  }
 },
 "nbformat": 4,
 "nbformat_minor": 2
}
